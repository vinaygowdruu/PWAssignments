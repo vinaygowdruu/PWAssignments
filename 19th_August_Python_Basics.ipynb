{
 "cells": [
  {
   "cell_type": "code",
   "execution_count": 6,
   "id": "6577a7f0",
   "metadata": {},
   "outputs": [
    {
     "name": "stdout",
     "output_type": "stream",
     "text": [
      "VALUE BEFORE SWAPPING\n",
      "value of x is 10 value of y is 20\n",
      "VALUE AFTER SWAPPING\n",
      "value of x is 20 value of y is 10\n"
     ]
    }
   ],
   "source": [
    "'''1.Declare two variables, `x` and `y`, and assign them integer values. Swap the\n",
    "values of these variables without using any temporary variable.'''\n",
    "\n",
    "x = 10\n",
    "\n",
    "y = 20\n",
    "\n",
    "print('VALUE BEFORE SWAPPING')\n",
    "print('value of x is',x,'value of y is',y)\n",
    "\n",
    "#Swapping of two variables using Assignment operator\n",
    "x,y=y,x\n",
    "\n",
    "print('VALUE AFTER SWAPPING')\n",
    "print('value of x is',x,'value of y is',y)"
   ]
  },
  {
   "cell_type": "code",
   "execution_count": 4,
   "id": "a022bb67",
   "metadata": {},
   "outputs": [
    {
     "name": "stdout",
     "output_type": "stream",
     "text": [
      "Enter the length of the rectangle2\n",
      "Enter the width of the rectangle2\n",
      "Area of a Rectangle is 4\n"
     ]
    }
   ],
   "source": [
    "'''2. Create a program that calculates the area of a rectangle. Take the length and\n",
    "width as inputs from the user and store them in variables. Calculate and\n",
    "display the area.'''\n",
    "\n",
    "length = int(input('Enter the length of the rectangle'))\n",
    "\n",
    "width = int(input('Enter the width of the rectangle'))\n",
    "\n",
    "#calculating the area of a rectangle\n",
    "area = length * width\n",
    "\n",
    "print('Area of a Rectangle is',area)"
   ]
  },
  {
   "cell_type": "code",
   "execution_count": 11,
   "id": "011251ea",
   "metadata": {},
   "outputs": [
    {
     "name": "stdout",
     "output_type": "stream",
     "text": [
      "Enter temperature in Celsius: 23\n",
      "Fahrenheit temperature is  73.4\n"
     ]
    }
   ],
   "source": [
    "'''3. Write a Python program that converts temperatures from Celsius to\n",
    "Fahrenheit. Take the temperature in Celsius as input, store it in a variable,\n",
    "convert it to Fahrenheit, and display the result.'''\n",
    "\n",
    "#taking the input from the user\n",
    "celsius = float(input(\"Enter temperature in Celsius: \"))\n",
    "\n",
    "#conversion from celsius to fahrenhiet\n",
    "fahrenheit = (celsius * 9/5) + 32\n",
    "\n",
    "print(\"Fahrenheit temperature is \",fahrenheit)"
   ]
  },
  {
   "cell_type": "code",
   "execution_count": 16,
   "id": "19101954",
   "metadata": {},
   "outputs": [
    {
     "name": "stdout",
     "output_type": "stream",
     "text": [
      "Give a stringabc\n",
      "Length of A string is 3\n"
     ]
    }
   ],
   "source": [
    "'''1. Write a Python program that takes a string as input and prints the length of\n",
    "the string.'''\n",
    "\n",
    "a=str(input(\"Give a string\"))\n",
    "\n",
    "print(\"Length of A string is\",len(a)) \n",
    "\n"
   ]
  },
  {
   "cell_type": "code",
   "execution_count": 24,
   "id": "c5ad710f",
   "metadata": {},
   "outputs": [
    {
     "name": "stdout",
     "output_type": "stream",
     "text": [
      "Give a stringasde\n",
      "2\n"
     ]
    }
   ],
   "source": [
    "'''2. Create a program that takes a sentence from the user and counts the number\n",
    "of vowels (a, e, i, o, u) in the string.'''\n",
    "\n",
    "a=str(input(\"Give a string\"))\n",
    "\n",
    "counter = 0\n",
    "for i in range(len(a)):\n",
    "    if a[i] in \"a,e,i,o,u\":\n",
    "        counter+=1\n",
    "    \n",
    "        \n",
    "print(counter)\n"
   ]
  },
  {
   "cell_type": "code",
   "execution_count": 29,
   "id": "601d4f6d",
   "metadata": {},
   "outputs": [
    {
     "name": "stdout",
     "output_type": "stream",
     "text": [
      "dcba\n"
     ]
    }
   ],
   "source": [
    "'''3. Given a string, reverse the order of characters using string slicing and print\n",
    "the reversed string.'''\n",
    "\n",
    "originalString = \"abcd\"\n",
    "\n",
    "reversedString = originalString[::-1]\n",
    "\n",
    "print(reversedString)"
   ]
  },
  {
   "cell_type": "code",
   "execution_count": 39,
   "id": "58f131c6",
   "metadata": {},
   "outputs": [
    {
     "name": "stdout",
     "output_type": "stream",
     "text": [
      "Give a stringabc\n",
      "the string is NOT palindrome\n"
     ]
    }
   ],
   "source": [
    "'''4. Write a program that takes a string as input and checks if it is a palindrome\n",
    "(reads the same forwards and backwards).'''\n",
    "\n",
    "originalString=str(input(\"Give a string\"))\n",
    "count = 0\n",
    "\n",
    "#reversing the string using string slicing\n",
    "reversedString = originalString[::-1]\n",
    "for i in range(len(originalString)):\n",
    "    if originalString[i] in reversedString[i]:\n",
    "        count+=1\n",
    "        \n",
    "if count==len(originalString):\n",
    "    print(\"the string is palindrome\")\n",
    "    \n",
    "else:\n",
    "     print(\"the string is NOT palindrome\")\n"
   ]
  },
  {
   "cell_type": "code",
   "execution_count": 54,
   "id": "cb9eff41",
   "metadata": {},
   "outputs": [
    {
     "name": "stdout",
     "output_type": "stream",
     "text": [
      "Give a stringhe ej\n",
      "heej\n"
     ]
    }
   ],
   "source": [
    "'''5. Create a program that takes a string as input and removes all the spaces from\n",
    "it. Print the modified string without spaces.'''\n",
    "\n",
    "\n",
    "originalString=str(input(\"Give a string\"))\n",
    "modifiedString=''\n",
    "for i in range(len(originalString)):\n",
    "    \n",
    "    #checking for empty spaces\n",
    "    if originalString[i] != \" \":\n",
    "        modifiedString= modifiedString + originalString[i]\n",
    "        \n",
    "        \n",
    "print('Modified String is',modifiedString)\n"
   ]
  },
  {
   "cell_type": "code",
   "execution_count": null,
   "id": "c5005ac6",
   "metadata": {},
   "outputs": [],
   "source": []
  },
  {
   "cell_type": "code",
   "execution_count": null,
   "id": "31e24f64",
   "metadata": {},
   "outputs": [],
   "source": []
  }
 ],
 "metadata": {
  "kernelspec": {
   "display_name": "Python 3 (ipykernel)",
   "language": "python",
   "name": "python3"
  },
  "language_info": {
   "codemirror_mode": {
    "name": "ipython",
    "version": 3
   },
   "file_extension": ".py",
   "mimetype": "text/x-python",
   "name": "python",
   "nbconvert_exporter": "python",
   "pygments_lexer": "ipython3",
   "version": "3.11.5"
  }
 },
 "nbformat": 4,
 "nbformat_minor": 5
}
