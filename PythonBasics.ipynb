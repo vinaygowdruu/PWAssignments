{
 "cells": [
  {
   "cell_type": "code",
   "execution_count": 1,
   "id": "1a238c64",
   "metadata": {},
   "outputs": [
    {
     "name": "stdout",
     "output_type": "stream",
     "text": [
      "Value of X is 30 Value of Y is  50\n"
     ]
    }
   ],
   "source": [
    "#TOPIC: Python Basics Variable\n",
    "\n",
    "\n",
    "#QUESTION 1\n",
    "\"\"\"1. Declare two variables, `x` and `y`, and assign them integer values. Swap the\n",
    "values of these variables without using any temporary variable.\"\"\"\n",
    "\n",
    "#Declaring of two variables 'x' and 'y'\n",
    "x=50\n",
    "y=30\n",
    "\n",
    "#Using a tuple operator\n",
    "x,y=y,x\n",
    "\n",
    "print(\"Value of X is\",x,\"Value of Y is \",y);\n",
    "\n"
   ]
  },
  {
   "cell_type": "code",
   "execution_count": 2,
   "id": "fe6764ff",
   "metadata": {},
   "outputs": [
    {
     "name": "stdout",
     "output_type": "stream",
     "text": [
      "Area of Rectangle is 72\n"
     ]
    }
   ],
   "source": [
    "#QUESTION 2\n",
    "\"\"\"Create a program that calculates the area of a rectangle. Take the length and\n",
    "width as inputs from the user and store them in variables. Calculate and\n",
    "display the area.\"\"\"\n",
    "\n",
    "\n",
    "x=int(input(\"Please enter the length of rectangle\"))\n",
    "y=int(input(\"Please enter the breadth of rectangle\"))\n",
    "\n",
    "\n",
    "area = x * y\n",
    "\n",
    "print(\"Area of Rectangle is\",area);\n"
   ]
  },
  {
   "cell_type": "code",
   "execution_count": null,
   "id": "7b8a4d8c",
   "metadata": {},
   "outputs": [],
   "source": [
    "#QUESTION 3\n",
    "\"\"\"Write a Python program that converts temperatures from Celsius to\n",
    "Fahrenheit. Take the temperature in Celsius as input, store it in a variable,\n",
    "convert it to Fahrenheit, and display the result\"\"\"\n",
    "\n",
    "#Taking the input from the user\n",
    "celsius=float(input(\"Please enter the temperature in Celsius\"))\n",
    "\n",
    "#logic to convert into fahrenheit\n",
    "fahrenheit = (celsius * 1.8) + 32\n",
    "\n",
    "print(fahrenheit)\n"
   ]
  },
  {
   "cell_type": "code",
   "execution_count": null,
   "id": "3ed15545",
   "metadata": {},
   "outputs": [],
   "source": []
  }
 ],
 "metadata": {
  "kernelspec": {
   "display_name": "Python 3 (ipykernel)",
   "language": "python",
   "name": "python3"
  },
  "language_info": {
   "codemirror_mode": {
    "name": "ipython",
    "version": 3
   },
   "file_extension": ".py",
   "mimetype": "text/x-python",
   "name": "python",
   "nbconvert_exporter": "python",
   "pygments_lexer": "ipython3",
   "version": "3.11.3"
  }
 },
 "nbformat": 4,
 "nbformat_minor": 5
}
